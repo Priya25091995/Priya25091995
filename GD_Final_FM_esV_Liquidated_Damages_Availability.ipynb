{
  "nbformat": 4,
  "nbformat_minor": 0,
  "metadata": {
    "colab": {
      "name": "GD_Final_FM_esV-Liquidated Damages: Availability ",
      "provenance": [],
      "collapsed_sections": []
    },
    "kernelspec": {
      "name": "python3",
      "display_name": "Python 3"
    }
  },
  "cells": [
    {
      "cell_type": "code",
      "source": [
        "#@title Parameters: Input\n",
        "# Altergo parameters\n",
        "\n",
        "Guaranteed_Availability = 97\n",
        "LD_rate_per_1Percent = 3300\n",
        "MaxStr = 151\n",
        "year = \"2021\"\n"
      ],
      "metadata": {
        "id": "iBGBKTit2A48"
      },
      "execution_count": 1,
      "outputs": []
    },
    {
      "cell_type": "markdown",
      "metadata": {
        "id": "w0M4A2OqvNYy"
      },
      "source": [
        "# Libraries and data"
      ]
    },
    {
      "cell_type": "code",
      "metadata": {
        "id": "HOOe_oJtdP_e"
      },
      "source": [
        "# Matplotlib set of libraries\n",
        "import numpy as np\n",
        "import pandas as pd\n",
        "import matplotlib.pyplot as plt\n",
        "import seaborn as sns\n",
        "from tabulate import tabulate\n",
        "from datetime import datetime, timedelta\n",
        "import glob\n",
        "import os\n",
        "%matplotlib inline"
      ],
      "execution_count": 6,
      "outputs": []
    },
    {
      "cell_type": "code",
      "source": [
        "from google.colab import drive\n",
        "drive.mount(\"/content/drive/\", force_remount=True)"
      ],
      "metadata": {
        "colab": {
          "base_uri": "https://localhost:8080/"
        },
        "id": "aO-LbJAnAGUk",
        "outputId": "472dbae8-8f70-4e45-e481-c1d302a8d7fd"
      },
      "execution_count": 8,
      "outputs": [
        {
          "output_type": "stream",
          "name": "stdout",
          "text": [
            "Mounted at /content/drive/\n"
          ]
        }
      ]
    },
    {
      "cell_type": "markdown",
      "source": [
        "# Full year data: 2021"
      ],
      "metadata": {
        "id": "V2FYqx6M4wtc"
      }
    },
    {
      "cell_type": "code",
      "source": [
        "# merging the files\n",
        "joined_files = os.path.join(\"/content/drive/Shareddrives/800 - Altergo/Data from customers/esVolta/Millikan_2021\", \"Log - *.csv\")\n",
        "\n",
        "\n",
        "# A list of all joined files is returned\n",
        "joined_list = glob.glob(joined_files)\n",
        "\n",
        "# Finally, the files are joined\n",
        "df = pd.concat(map(pd.read_csv, joined_list), ignore_index=True)\n",
        "print(df)\n",
        "\n",
        "df_2021 = pd.DataFrame()\n",
        "df_2021[\"LastUpdateTime\"] = df[\"LastUpdateTime\"]\t\n",
        "df_2021[\"FaultCode\"] = df[\"FaultCode\"]\n",
        "df_2021[\"NumOfStringOnline\"] = df[\"NumOfStringOnline\"]\n",
        "df_2021[\"MeterPower\"] = df[\"MeterPower\"]\n"
      ],
      "metadata": {
        "colab": {
          "base_uri": "https://localhost:8080/"
        },
        "id": "HQAnkrUPAdhU",
        "outputId": "5f33073a-c355-4c71-fdf7-e0fef2be5c23"
      },
      "execution_count": 10,
      "outputs": [
        {
          "output_type": "stream",
          "name": "stderr",
          "text": [
            "/usr/local/lib/python3.7/dist-packages/IPython/core/interactiveshell.py:2882: DtypeWarning: Columns (18) have mixed types.Specify dtype option on import or set low_memory=False.\n",
            "  exec(code_obj, self.user_global_ns, self.user_ns)\n"
          ]
        },
        {
          "output_type": "stream",
          "name": "stdout",
          "text": [
            "              ser  PCSID  ...  LowBessHumidity  AveBessHumidity\n",
            "0        23986176      1  ...              362             1061\n",
            "1        23986177      1  ...              362             1061\n",
            "2        23986178      1  ...              362             1061\n",
            "3        23986179      1  ...              362              375\n",
            "4        23986180      1  ...              362              375\n",
            "...           ...    ...  ...              ...              ...\n",
            "5438757  29440264      1  ...              420             1231\n",
            "5438758  29440265      1  ...              420              435\n",
            "5438759  29440266      1  ...              420              435\n",
            "5438760  29440267      1  ...              420             1231\n",
            "5438761  29440268      1  ...              420             1231\n",
            "\n",
            "[5438762 rows x 38 columns]\n"
          ]
        }
      ]
    },
    {
      "cell_type": "code",
      "source": [
        "df_2021"
      ],
      "metadata": {
        "colab": {
          "base_uri": "https://localhost:8080/",
          "height": 423
        },
        "id": "NONECmbR7FUG",
        "outputId": "8942b8ac-0ce9-4bb1-f707-3b5affb48828"
      },
      "execution_count": 11,
      "outputs": [
        {
          "output_type": "execute_result",
          "data": {
            "text/html": [
              "\n",
              "  <div id=\"df-c6948956-95d1-46fe-b626-e1bc96c607ad\">\n",
              "    <div class=\"colab-df-container\">\n",
              "      <div>\n",
              "<style scoped>\n",
              "    .dataframe tbody tr th:only-of-type {\n",
              "        vertical-align: middle;\n",
              "    }\n",
              "\n",
              "    .dataframe tbody tr th {\n",
              "        vertical-align: top;\n",
              "    }\n",
              "\n",
              "    .dataframe thead th {\n",
              "        text-align: right;\n",
              "    }\n",
              "</style>\n",
              "<table border=\"1\" class=\"dataframe\">\n",
              "  <thead>\n",
              "    <tr style=\"text-align: right;\">\n",
              "      <th></th>\n",
              "      <th>LastUpdateTime</th>\n",
              "      <th>FaultCode</th>\n",
              "      <th>NumOfStringOnline</th>\n",
              "      <th>MeterPower</th>\n",
              "    </tr>\n",
              "  </thead>\n",
              "  <tbody>\n",
              "    <tr>\n",
              "      <th>0</th>\n",
              "      <td>2020-12-28 00:00:00</td>\n",
              "      <td>NaN</td>\n",
              "      <td>149</td>\n",
              "      <td>182.244</td>\n",
              "    </tr>\n",
              "    <tr>\n",
              "      <th>1</th>\n",
              "      <td>2020-12-28 00:00:05</td>\n",
              "      <td>NaN</td>\n",
              "      <td>149</td>\n",
              "      <td>-572.565</td>\n",
              "    </tr>\n",
              "    <tr>\n",
              "      <th>2</th>\n",
              "      <td>2020-12-28 00:00:11</td>\n",
              "      <td>NaN</td>\n",
              "      <td>149</td>\n",
              "      <td>-1365.330</td>\n",
              "    </tr>\n",
              "    <tr>\n",
              "      <th>3</th>\n",
              "      <td>2020-12-28 00:00:16</td>\n",
              "      <td>NaN</td>\n",
              "      <td>149</td>\n",
              "      <td>-1832.070</td>\n",
              "    </tr>\n",
              "    <tr>\n",
              "      <th>4</th>\n",
              "      <td>2020-12-28 00:00:22</td>\n",
              "      <td>NaN</td>\n",
              "      <td>149</td>\n",
              "      <td>-1044.040</td>\n",
              "    </tr>\n",
              "    <tr>\n",
              "      <th>...</th>\n",
              "      <td>...</td>\n",
              "      <td>...</td>\n",
              "      <td>...</td>\n",
              "      <td>...</td>\n",
              "    </tr>\n",
              "    <tr>\n",
              "      <th>5438757</th>\n",
              "      <td>2021-12-19 23:59:35</td>\n",
              "      <td>ESTOP/</td>\n",
              "      <td>128</td>\n",
              "      <td>0.000</td>\n",
              "    </tr>\n",
              "    <tr>\n",
              "      <th>5438758</th>\n",
              "      <td>2021-12-19 23:59:41</td>\n",
              "      <td>ESTOP/</td>\n",
              "      <td>128</td>\n",
              "      <td>0.000</td>\n",
              "    </tr>\n",
              "    <tr>\n",
              "      <th>5438759</th>\n",
              "      <td>2021-12-19 23:59:47</td>\n",
              "      <td>ESTOP/</td>\n",
              "      <td>128</td>\n",
              "      <td>0.000</td>\n",
              "    </tr>\n",
              "    <tr>\n",
              "      <th>5438760</th>\n",
              "      <td>2021-12-19 23:59:52</td>\n",
              "      <td>ESTOP/</td>\n",
              "      <td>128</td>\n",
              "      <td>0.000</td>\n",
              "    </tr>\n",
              "    <tr>\n",
              "      <th>5438761</th>\n",
              "      <td>2021-12-19 23:59:58</td>\n",
              "      <td>ESTOP/</td>\n",
              "      <td>128</td>\n",
              "      <td>0.000</td>\n",
              "    </tr>\n",
              "  </tbody>\n",
              "</table>\n",
              "<p>5438762 rows × 4 columns</p>\n",
              "</div>\n",
              "      <button class=\"colab-df-convert\" onclick=\"convertToInteractive('df-c6948956-95d1-46fe-b626-e1bc96c607ad')\"\n",
              "              title=\"Convert this dataframe to an interactive table.\"\n",
              "              style=\"display:none;\">\n",
              "        \n",
              "  <svg xmlns=\"http://www.w3.org/2000/svg\" height=\"24px\"viewBox=\"0 0 24 24\"\n",
              "       width=\"24px\">\n",
              "    <path d=\"M0 0h24v24H0V0z\" fill=\"none\"/>\n",
              "    <path d=\"M18.56 5.44l.94 2.06.94-2.06 2.06-.94-2.06-.94-.94-2.06-.94 2.06-2.06.94zm-11 1L8.5 8.5l.94-2.06 2.06-.94-2.06-.94L8.5 2.5l-.94 2.06-2.06.94zm10 10l.94 2.06.94-2.06 2.06-.94-2.06-.94-.94-2.06-.94 2.06-2.06.94z\"/><path d=\"M17.41 7.96l-1.37-1.37c-.4-.4-.92-.59-1.43-.59-.52 0-1.04.2-1.43.59L10.3 9.45l-7.72 7.72c-.78.78-.78 2.05 0 2.83L4 21.41c.39.39.9.59 1.41.59.51 0 1.02-.2 1.41-.59l7.78-7.78 2.81-2.81c.8-.78.8-2.07 0-2.86zM5.41 20L4 18.59l7.72-7.72 1.47 1.35L5.41 20z\"/>\n",
              "  </svg>\n",
              "      </button>\n",
              "      \n",
              "  <style>\n",
              "    .colab-df-container {\n",
              "      display:flex;\n",
              "      flex-wrap:wrap;\n",
              "      gap: 12px;\n",
              "    }\n",
              "\n",
              "    .colab-df-convert {\n",
              "      background-color: #E8F0FE;\n",
              "      border: none;\n",
              "      border-radius: 50%;\n",
              "      cursor: pointer;\n",
              "      display: none;\n",
              "      fill: #1967D2;\n",
              "      height: 32px;\n",
              "      padding: 0 0 0 0;\n",
              "      width: 32px;\n",
              "    }\n",
              "\n",
              "    .colab-df-convert:hover {\n",
              "      background-color: #E2EBFA;\n",
              "      box-shadow: 0px 1px 2px rgba(60, 64, 67, 0.3), 0px 1px 3px 1px rgba(60, 64, 67, 0.15);\n",
              "      fill: #174EA6;\n",
              "    }\n",
              "\n",
              "    [theme=dark] .colab-df-convert {\n",
              "      background-color: #3B4455;\n",
              "      fill: #D2E3FC;\n",
              "    }\n",
              "\n",
              "    [theme=dark] .colab-df-convert:hover {\n",
              "      background-color: #434B5C;\n",
              "      box-shadow: 0px 1px 3px 1px rgba(0, 0, 0, 0.15);\n",
              "      filter: drop-shadow(0px 1px 2px rgba(0, 0, 0, 0.3));\n",
              "      fill: #FFFFFF;\n",
              "    }\n",
              "  </style>\n",
              "\n",
              "      <script>\n",
              "        const buttonEl =\n",
              "          document.querySelector('#df-c6948956-95d1-46fe-b626-e1bc96c607ad button.colab-df-convert');\n",
              "        buttonEl.style.display =\n",
              "          google.colab.kernel.accessAllowed ? 'block' : 'none';\n",
              "\n",
              "        async function convertToInteractive(key) {\n",
              "          const element = document.querySelector('#df-c6948956-95d1-46fe-b626-e1bc96c607ad');\n",
              "          const dataTable =\n",
              "            await google.colab.kernel.invokeFunction('convertToInteractive',\n",
              "                                                     [key], {});\n",
              "          if (!dataTable) return;\n",
              "\n",
              "          const docLinkHtml = 'Like what you see? Visit the ' +\n",
              "            '<a target=\"_blank\" href=https://colab.research.google.com/notebooks/data_table.ipynb>data table notebook</a>'\n",
              "            + ' to learn more about interactive tables.';\n",
              "          element.innerHTML = '';\n",
              "          dataTable['output_type'] = 'display_data';\n",
              "          await google.colab.output.renderOutput(dataTable, element);\n",
              "          const docLink = document.createElement('div');\n",
              "          docLink.innerHTML = docLinkHtml;\n",
              "          element.appendChild(docLink);\n",
              "        }\n",
              "      </script>\n",
              "    </div>\n",
              "  </div>\n",
              "  "
            ],
            "text/plain": [
              "              LastUpdateTime FaultCode  NumOfStringOnline  MeterPower\n",
              "0        2020-12-28 00:00:00       NaN                149     182.244\n",
              "1        2020-12-28 00:00:05       NaN                149    -572.565\n",
              "2        2020-12-28 00:00:11       NaN                149   -1365.330\n",
              "3        2020-12-28 00:00:16       NaN                149   -1832.070\n",
              "4        2020-12-28 00:00:22       NaN                149   -1044.040\n",
              "...                      ...       ...                ...         ...\n",
              "5438757  2021-12-19 23:59:35    ESTOP/                128       0.000\n",
              "5438758  2021-12-19 23:59:41    ESTOP/                128       0.000\n",
              "5438759  2021-12-19 23:59:47    ESTOP/                128       0.000\n",
              "5438760  2021-12-19 23:59:52    ESTOP/                128       0.000\n",
              "5438761  2021-12-19 23:59:58    ESTOP/                128       0.000\n",
              "\n",
              "[5438762 rows x 4 columns]"
            ]
          },
          "metadata": {},
          "execution_count": 11
        }
      ]
    },
    {
      "cell_type": "markdown",
      "metadata": {
        "id": "yn5mchPrG9MB"
      },
      "source": [
        "### Check data consistency"
      ]
    },
    {
      "cell_type": "code",
      "metadata": {
        "id": "pqnOaL0xG-_L"
      },
      "source": [
        "df_2021['LastUpdateTime'] = pd.to_datetime(df_2021['LastUpdateTime']) # as datetime\n",
        "df_2021 = df_2021.set_index('LastUpdateTime') # time as index - easier to manage this way"
      ],
      "execution_count": 12,
      "outputs": []
    },
    {
      "cell_type": "code",
      "metadata": {
        "colab": {
          "base_uri": "https://localhost:8080/"
        },
        "id": "5VCTICYdHe9A",
        "outputId": "dda707a7-65ee-483a-cfbc-0c3f2de19536"
      },
      "source": [
        "duration_2021 = df_2021.index.max() - df_2021.index.min()\n",
        "duration_2021_hours = round(duration_2021.total_seconds()/(60*60),1)\n",
        "duration_2021_hours/24"
      ],
      "execution_count": 13,
      "outputs": [
        {
          "output_type": "execute_result",
          "data": {
            "text/plain": [
              "357.0"
            ]
          },
          "metadata": {},
          "execution_count": 13
        }
      ]
    },
    {
      "cell_type": "code",
      "metadata": {
        "colab": {
          "base_uri": "https://localhost:8080/"
        },
        "id": "F5nr-FpPIA_B",
        "outputId": "d91a4dcc-6c07-4a44-b196-adedee6827f9"
      },
      "source": [
        "df_2021.index.min(), df_2021.index.max()"
      ],
      "execution_count": 14,
      "outputs": [
        {
          "output_type": "execute_result",
          "data": {
            "text/plain": [
              "(Timestamp('2020-12-28 00:00:00'), Timestamp('2021-12-19 23:59:58'))"
            ]
          },
          "metadata": {},
          "execution_count": 14
        }
      ]
    },
    {
      "cell_type": "markdown",
      "metadata": {
        "id": "HJ-VTIDQcxzl"
      },
      "source": [
        "Picking only 2021 data"
      ]
    },
    {
      "cell_type": "code",
      "metadata": {
        "id": "rbIw4xV0AxF6"
      },
      "source": [
        "df_2021 = df_2021.loc[year]"
      ],
      "execution_count": 15,
      "outputs": []
    },
    {
      "cell_type": "code",
      "metadata": {
        "colab": {
          "base_uri": "https://localhost:8080/"
        },
        "id": "q9nUTaWEBBTS",
        "outputId": "1e5ed6fc-5fb1-4126-98ac-c382896378b3"
      },
      "source": [
        "df_2021.index.min(), df_2021.index.max()"
      ],
      "execution_count": 17,
      "outputs": [
        {
          "output_type": "execute_result",
          "data": {
            "text/plain": [
              "(Timestamp('2021-01-01 00:00:05'), Timestamp('2021-12-19 23:59:58'))"
            ]
          },
          "metadata": {},
          "execution_count": 17
        }
      ]
    },
    {
      "cell_type": "markdown",
      "metadata": {
        "id": "PF32rJbdCWq0"
      },
      "source": [
        "### Frequency"
      ]
    },
    {
      "cell_type": "code",
      "metadata": {
        "colab": {
          "base_uri": "https://localhost:8080/"
        },
        "id": "h_xjWHkYCX2K",
        "outputId": "3d3e78aa-bb2b-459b-b676-437aa8617a33"
      },
      "source": [
        "duration_2021.total_seconds()/df_2021.shape[0]"
      ],
      "execution_count": 16,
      "outputs": [
        {
          "output_type": "execute_result",
          "data": {
            "text/plain": [
              "5.736136015285057"
            ]
          },
          "metadata": {},
          "execution_count": 16
        }
      ]
    },
    {
      "cell_type": "markdown",
      "metadata": {
        "id": "Th4wlwuiG43r"
      },
      "source": [
        "Check for duplicates"
      ]
    },
    {
      "cell_type": "code",
      "metadata": {
        "colab": {
          "base_uri": "https://localhost:8080/",
          "height": 300
        },
        "id": "gp3CAlG7GZ-b",
        "outputId": "f8f448a4-99ca-4188-b35f-79dde2333a7a"
      },
      "source": [
        "df_2021[df_2021.index.duplicated()]"
      ],
      "execution_count": 18,
      "outputs": [
        {
          "output_type": "execute_result",
          "data": {
            "text/html": [
              "\n",
              "  <div id=\"df-afb5617c-f759-4e05-ac18-16517cd7d9ab\">\n",
              "    <div class=\"colab-df-container\">\n",
              "      <div>\n",
              "<style scoped>\n",
              "    .dataframe tbody tr th:only-of-type {\n",
              "        vertical-align: middle;\n",
              "    }\n",
              "\n",
              "    .dataframe tbody tr th {\n",
              "        vertical-align: top;\n",
              "    }\n",
              "\n",
              "    .dataframe thead th {\n",
              "        text-align: right;\n",
              "    }\n",
              "</style>\n",
              "<table border=\"1\" class=\"dataframe\">\n",
              "  <thead>\n",
              "    <tr style=\"text-align: right;\">\n",
              "      <th></th>\n",
              "      <th>FaultCode</th>\n",
              "      <th>NumOfStringOnline</th>\n",
              "      <th>MeterPower</th>\n",
              "    </tr>\n",
              "    <tr>\n",
              "      <th>LastUpdateTime</th>\n",
              "      <th></th>\n",
              "      <th></th>\n",
              "      <th></th>\n",
              "    </tr>\n",
              "  </thead>\n",
              "  <tbody>\n",
              "    <tr>\n",
              "      <th>2021-03-29</th>\n",
              "      <td>NaN</td>\n",
              "      <td>141</td>\n",
              "      <td>-500.81400</td>\n",
              "    </tr>\n",
              "    <tr>\n",
              "      <th>2021-05-10</th>\n",
              "      <td>NaN</td>\n",
              "      <td>140</td>\n",
              "      <td>-420.94000</td>\n",
              "    </tr>\n",
              "    <tr>\n",
              "      <th>2021-05-24</th>\n",
              "      <td>NaN</td>\n",
              "      <td>141</td>\n",
              "      <td>-999.91500</td>\n",
              "    </tr>\n",
              "    <tr>\n",
              "      <th>2021-07-12</th>\n",
              "      <td>NaN</td>\n",
              "      <td>140</td>\n",
              "      <td>-4.32990</td>\n",
              "    </tr>\n",
              "    <tr>\n",
              "      <th>2021-08-23</th>\n",
              "      <td>NaN</td>\n",
              "      <td>141</td>\n",
              "      <td>-2011.84000</td>\n",
              "    </tr>\n",
              "    <tr>\n",
              "      <th>2021-09-27</th>\n",
              "      <td>NaN</td>\n",
              "      <td>141</td>\n",
              "      <td>-4.66180</td>\n",
              "    </tr>\n",
              "    <tr>\n",
              "      <th>2021-10-25</th>\n",
              "      <td>NaN</td>\n",
              "      <td>149</td>\n",
              "      <td>-4.49705</td>\n",
              "    </tr>\n",
              "  </tbody>\n",
              "</table>\n",
              "</div>\n",
              "      <button class=\"colab-df-convert\" onclick=\"convertToInteractive('df-afb5617c-f759-4e05-ac18-16517cd7d9ab')\"\n",
              "              title=\"Convert this dataframe to an interactive table.\"\n",
              "              style=\"display:none;\">\n",
              "        \n",
              "  <svg xmlns=\"http://www.w3.org/2000/svg\" height=\"24px\"viewBox=\"0 0 24 24\"\n",
              "       width=\"24px\">\n",
              "    <path d=\"M0 0h24v24H0V0z\" fill=\"none\"/>\n",
              "    <path d=\"M18.56 5.44l.94 2.06.94-2.06 2.06-.94-2.06-.94-.94-2.06-.94 2.06-2.06.94zm-11 1L8.5 8.5l.94-2.06 2.06-.94-2.06-.94L8.5 2.5l-.94 2.06-2.06.94zm10 10l.94 2.06.94-2.06 2.06-.94-2.06-.94-.94-2.06-.94 2.06-2.06.94z\"/><path d=\"M17.41 7.96l-1.37-1.37c-.4-.4-.92-.59-1.43-.59-.52 0-1.04.2-1.43.59L10.3 9.45l-7.72 7.72c-.78.78-.78 2.05 0 2.83L4 21.41c.39.39.9.59 1.41.59.51 0 1.02-.2 1.41-.59l7.78-7.78 2.81-2.81c.8-.78.8-2.07 0-2.86zM5.41 20L4 18.59l7.72-7.72 1.47 1.35L5.41 20z\"/>\n",
              "  </svg>\n",
              "      </button>\n",
              "      \n",
              "  <style>\n",
              "    .colab-df-container {\n",
              "      display:flex;\n",
              "      flex-wrap:wrap;\n",
              "      gap: 12px;\n",
              "    }\n",
              "\n",
              "    .colab-df-convert {\n",
              "      background-color: #E8F0FE;\n",
              "      border: none;\n",
              "      border-radius: 50%;\n",
              "      cursor: pointer;\n",
              "      display: none;\n",
              "      fill: #1967D2;\n",
              "      height: 32px;\n",
              "      padding: 0 0 0 0;\n",
              "      width: 32px;\n",
              "    }\n",
              "\n",
              "    .colab-df-convert:hover {\n",
              "      background-color: #E2EBFA;\n",
              "      box-shadow: 0px 1px 2px rgba(60, 64, 67, 0.3), 0px 1px 3px 1px rgba(60, 64, 67, 0.15);\n",
              "      fill: #174EA6;\n",
              "    }\n",
              "\n",
              "    [theme=dark] .colab-df-convert {\n",
              "      background-color: #3B4455;\n",
              "      fill: #D2E3FC;\n",
              "    }\n",
              "\n",
              "    [theme=dark] .colab-df-convert:hover {\n",
              "      background-color: #434B5C;\n",
              "      box-shadow: 0px 1px 3px 1px rgba(0, 0, 0, 0.15);\n",
              "      filter: drop-shadow(0px 1px 2px rgba(0, 0, 0, 0.3));\n",
              "      fill: #FFFFFF;\n",
              "    }\n",
              "  </style>\n",
              "\n",
              "      <script>\n",
              "        const buttonEl =\n",
              "          document.querySelector('#df-afb5617c-f759-4e05-ac18-16517cd7d9ab button.colab-df-convert');\n",
              "        buttonEl.style.display =\n",
              "          google.colab.kernel.accessAllowed ? 'block' : 'none';\n",
              "\n",
              "        async function convertToInteractive(key) {\n",
              "          const element = document.querySelector('#df-afb5617c-f759-4e05-ac18-16517cd7d9ab');\n",
              "          const dataTable =\n",
              "            await google.colab.kernel.invokeFunction('convertToInteractive',\n",
              "                                                     [key], {});\n",
              "          if (!dataTable) return;\n",
              "\n",
              "          const docLinkHtml = 'Like what you see? Visit the ' +\n",
              "            '<a target=\"_blank\" href=https://colab.research.google.com/notebooks/data_table.ipynb>data table notebook</a>'\n",
              "            + ' to learn more about interactive tables.';\n",
              "          element.innerHTML = '';\n",
              "          dataTable['output_type'] = 'display_data';\n",
              "          await google.colab.output.renderOutput(dataTable, element);\n",
              "          const docLink = document.createElement('div');\n",
              "          docLink.innerHTML = docLinkHtml;\n",
              "          element.appendChild(docLink);\n",
              "        }\n",
              "      </script>\n",
              "    </div>\n",
              "  </div>\n",
              "  "
            ],
            "text/plain": [
              "               FaultCode  NumOfStringOnline  MeterPower\n",
              "LastUpdateTime                                         \n",
              "2021-03-29           NaN                141  -500.81400\n",
              "2021-05-10           NaN                140  -420.94000\n",
              "2021-05-24           NaN                141  -999.91500\n",
              "2021-07-12           NaN                140    -4.32990\n",
              "2021-08-23           NaN                141 -2011.84000\n",
              "2021-09-27           NaN                141    -4.66180\n",
              "2021-10-25           NaN                149    -4.49705"
            ]
          },
          "metadata": {},
          "execution_count": 18
        }
      ]
    },
    {
      "cell_type": "code",
      "metadata": {
        "id": "MMIwRXHSGrw_"
      },
      "source": [
        "# Drop duplicates\n",
        "df_2021 = df_2021.drop_duplicates()"
      ],
      "execution_count": 19,
      "outputs": []
    },
    {
      "cell_type": "code",
      "metadata": {
        "id": "NxXjx5ji8r2n"
      },
      "source": [
        "df = df_2021.sort_index()"
      ],
      "execution_count": 20,
      "outputs": []
    },
    {
      "cell_type": "markdown",
      "source": [
        "### Encode FaultCodes"
      ],
      "metadata": {
        "id": "BSuk8n0qwn7-"
      }
    },
    {
      "cell_type": "code",
      "source": [
        "# Change to categories\n",
        "df['FaultCode'] = df['FaultCode'].astype('category')\n",
        "df['FaultCat'] = df['FaultCode'].cat.codes\n",
        "dict(enumerate(df['FaultCode'].cat.categories))"
      ],
      "metadata": {
        "colab": {
          "base_uri": "https://localhost:8080/"
        },
        "id": "0OgYizQ1wmk_",
        "outputId": "0d8b85d1-e549-4375-cbe8-df9e8f9b2f5d"
      },
      "execution_count": 21,
      "outputs": [
        {
          "output_type": "execute_result",
          "data": {
            "text/plain": [
              "{0: 'CF1/',\n",
              " 1: 'CL2/',\n",
              " 2: 'CTL0/',\n",
              " 3: 'CTL0/IF1/',\n",
              " 4: 'CTL0/IF1/IF2/',\n",
              " 5: 'CTL0/IF1/IF3/',\n",
              " 6: 'CTL0/IF2/',\n",
              " 7: 'DCF23/',\n",
              " 8: 'ESTOP/',\n",
              " 9: 'ESTOP/CTL0/',\n",
              " 10: 'SEQ1/',\n",
              " 11: 'SEQ2/',\n",
              " 12: 'SEQ2/ESTOP/',\n",
              " 13: 'THM15/'}"
            ]
          },
          "metadata": {},
          "execution_count": 21
        }
      ]
    },
    {
      "cell_type": "markdown",
      "metadata": {
        "id": "wtlKuj1A7sgb"
      },
      "source": [
        "### Add durations"
      ]
    },
    {
      "cell_type": "markdown",
      "metadata": {
        "id": "fIFQQ_uBgJi5"
      },
      "source": [
        "Duration = difference of row 2 from row 1 timestamp"
      ]
    },
    {
      "cell_type": "code",
      "metadata": {
        "id": "oHcyQgxtF2sU"
      },
      "source": [
        "df['Duration'] = df.index.to_series().diff().dropna(axis=0, how='any')/np.timedelta64(1, 's')\n",
        "df['Duration Hours'] = df.index.to_series().diff().dropna(axis=0, how='any')/np.timedelta64((3600), 's')"
      ],
      "execution_count": 22,
      "outputs": []
    },
    {
      "cell_type": "code",
      "metadata": {
        "colab": {
          "base_uri": "https://localhost:8080/",
          "height": 356
        },
        "id": "nvpxpz_R8RvP",
        "outputId": "3b7c6f96-cc74-4a7a-94d7-db5ef4de70cf"
      },
      "source": [
        "df['Duration Hours'].plot(figsize=(20,5),label = 'Duration Hours')\n",
        "  \n",
        "# Add a title to a legend\n",
        "plt.legend(title = \"Legend Title\")\n",
        "plt.title(\"Line Graph - Duration Hours\")\n",
        "plt.xlabel(\"Time\")\n",
        "plt.ylabel(\"Duration Hours\")"
      ],
      "execution_count": 23,
      "outputs": [
        {
          "output_type": "execute_result",
          "data": {
            "text/plain": [
              "Text(0, 0.5, 'Duration Hours')"
            ]
          },
          "metadata": {},
          "execution_count": 23
        },
        {
          "output_type": "display_data",
          "data": {
            "image/png": "[encoded data removed]",
            "text/plain": [
              "<Figure size 1440x360 with 1 Axes>"
            ]
          },
          "metadata": {
            "needs_background": "light"
          }
        }
      ]
    },
    {
      "cell_type": "code",
      "metadata": {
        "id": "-giHP-8ygvKd"
      },
      "source": [
        "table3 = pd.DataFrame()\n",
        "table3 = round(df['Duration Hours'].sort_values(ascending=False),2)[:10]\n",
        "table3\n",
        "table3 = table3.to_frame()"
      ],
      "execution_count": 24,
      "outputs": []
    },
    {
      "cell_type": "code",
      "source": [
        "html3 = table3.to_html()\n",
        "\n",
        "# write html to file\n",
        "text_file = open(\"table3.html\", \"w\")\n",
        "text_file.write(html3)\n",
        "text_file.close()"
      ],
      "metadata": {
        "id": "I4iPL9EycACP"
      },
      "execution_count": 25,
      "outputs": []
    },
    {
      "cell_type": "code",
      "source": [
        "from IPython.display import HTML\n",
        "HTML(table3.to_html(classes= 'table table-striped'))"
      ],
      "metadata": {
        "colab": {
          "base_uri": "https://localhost:8080/",
          "height": 394
        },
        "id": "Jq-qWdBwc8yJ",
        "outputId": "2b7bf684-161e-4418-f66a-43a98941766a"
      },
      "execution_count": 26,
      "outputs": [
        {
          "output_type": "execute_result",
          "data": {
            "text/html": [
              "<table border=\"1\" class=\"dataframe table table-striped\">\n",
              "  <thead>\n",
              "    <tr style=\"text-align: right;\">\n",
              "      <th></th>\n",
              "      <th>Duration Hours</th>\n",
              "    </tr>\n",
              "    <tr>\n",
              "      <th>LastUpdateTime</th>\n",
              "      <th></th>\n",
              "    </tr>\n",
              "  </thead>\n",
              "  <tbody>\n",
              "    <tr>\n",
              "      <th>2021-03-10 09:28:10</th>\n",
              "      <td>182.36</td>\n",
              "    </tr>\n",
              "    <tr>\n",
              "      <th>2021-09-07 20:03:30</th>\n",
              "      <td>121.99</td>\n",
              "    </tr>\n",
              "    <tr>\n",
              "      <th>2021-12-09 10:12:10</th>\n",
              "      <td>38.66</td>\n",
              "    </tr>\n",
              "    <tr>\n",
              "      <th>2021-08-31 07:37:42</th>\n",
              "      <td>32.05</td>\n",
              "    </tr>\n",
              "    <tr>\n",
              "      <th>2021-06-24 14:11:58</th>\n",
              "      <td>31.03</td>\n",
              "    </tr>\n",
              "    <tr>\n",
              "      <th>2021-09-01 17:34:33</th>\n",
              "      <td>25.29</td>\n",
              "    </tr>\n",
              "    <tr>\n",
              "      <th>2021-03-02 15:58:48</th>\n",
              "      <td>23.64</td>\n",
              "    </tr>\n",
              "    <tr>\n",
              "      <th>2021-04-17 15:32:51</th>\n",
              "      <td>17.54</td>\n",
              "    </tr>\n",
              "    <tr>\n",
              "      <th>2021-03-12 10:00:01</th>\n",
              "      <td>15.44</td>\n",
              "    </tr>\n",
              "    <tr>\n",
              "      <th>2021-05-05 06:52:52</th>\n",
              "      <td>14.14</td>\n",
              "    </tr>\n",
              "  </tbody>\n",
              "</table>"
            ],
            "text/plain": [
              "<IPython.core.display.HTML object>"
            ]
          },
          "metadata": {},
          "execution_count": 26
        }
      ]
    },
    {
      "cell_type": "code",
      "metadata": {
        "colab": {
          "base_uri": "https://localhost:8080/"
        },
        "id": "v3if2gi68cb7",
        "outputId": "85278cfd-436e-4424-d1e0-9c1a9fe27d95"
      },
      "source": [
        "df[df['Duration']>300].count()"
      ],
      "execution_count": 27,
      "outputs": [
        {
          "output_type": "execute_result",
          "data": {
            "text/plain": [
              "FaultCode              54\n",
              "NumOfStringOnline    8854\n",
              "MeterPower           8854\n",
              "FaultCat             8854\n",
              "Duration             8854\n",
              "Duration Hours       8854\n",
              "dtype: int64"
            ]
          },
          "metadata": {},
          "execution_count": 27
        }
      ]
    },
    {
      "cell_type": "code",
      "metadata": {
        "colab": {
          "base_uri": "https://localhost:8080/",
          "height": 520
        },
        "id": "fe5ZpYTi-vxs",
        "outputId": "7d565269-bca4-4f82-ffed-568eb329d397"
      },
      "source": [
        "df[df['Duration']>300].groupby('FaultCode').sum()/3600"
      ],
      "execution_count": 29,
      "outputs": [
        {
          "output_type": "execute_result",
          "data": {
            "text/html": [
              "\n",
              "  <div id=\"df-f090d6aa-f61e-4970-88cf-18b23507cff1\">\n",
              "    <div class=\"colab-df-container\">\n",
              "      <div>\n",
              "<style scoped>\n",
              "    .dataframe tbody tr th:only-of-type {\n",
              "        vertical-align: middle;\n",
              "    }\n",
              "\n",
              "    .dataframe tbody tr th {\n",
              "        vertical-align: top;\n",
              "    }\n",
              "\n",
              "    .dataframe thead th {\n",
              "        text-align: right;\n",
              "    }\n",
              "</style>\n",
              "<table border=\"1\" class=\"dataframe\">\n",
              "  <thead>\n",
              "    <tr style=\"text-align: right;\">\n",
              "      <th></th>\n",
              "      <th>NumOfStringOnline</th>\n",
              "      <th>MeterPower</th>\n",
              "      <th>FaultCat</th>\n",
              "      <th>Duration</th>\n",
              "      <th>Duration Hours</th>\n",
              "    </tr>\n",
              "    <tr>\n",
              "      <th>FaultCode</th>\n",
              "      <th></th>\n",
              "      <th></th>\n",
              "      <th></th>\n",
              "      <th></th>\n",
              "      <th></th>\n",
              "    </tr>\n",
              "  </thead>\n",
              "  <tbody>\n",
              "    <tr>\n",
              "      <th>CF1/</th>\n",
              "      <td>0.154167</td>\n",
              "      <td>0.000000</td>\n",
              "      <td>0.000000</td>\n",
              "      <td>37.727222</td>\n",
              "      <td>0.010480</td>\n",
              "    </tr>\n",
              "    <tr>\n",
              "      <th>CL2/</th>\n",
              "      <td>0.195833</td>\n",
              "      <td>-0.015101</td>\n",
              "      <td>0.001389</td>\n",
              "      <td>1.856389</td>\n",
              "      <td>0.000516</td>\n",
              "    </tr>\n",
              "    <tr>\n",
              "      <th>CTL0/</th>\n",
              "      <td>0.079722</td>\n",
              "      <td>0.000000</td>\n",
              "      <td>0.001111</td>\n",
              "      <td>23.987222</td>\n",
              "      <td>0.006663</td>\n",
              "    </tr>\n",
              "    <tr>\n",
              "      <th>CTL0/IF1/</th>\n",
              "      <td>0.076667</td>\n",
              "      <td>-0.003054</td>\n",
              "      <td>0.001667</td>\n",
              "      <td>6.009444</td>\n",
              "      <td>0.001669</td>\n",
              "    </tr>\n",
              "    <tr>\n",
              "      <th>CTL0/IF1/IF2/</th>\n",
              "      <td>0.076667</td>\n",
              "      <td>-0.002792</td>\n",
              "      <td>0.002222</td>\n",
              "      <td>0.671111</td>\n",
              "      <td>0.000186</td>\n",
              "    </tr>\n",
              "    <tr>\n",
              "      <th>CTL0/IF1/IF3/</th>\n",
              "      <td>0.000000</td>\n",
              "      <td>0.000000</td>\n",
              "      <td>0.000000</td>\n",
              "      <td>0.000000</td>\n",
              "      <td>0.000000</td>\n",
              "    </tr>\n",
              "    <tr>\n",
              "      <th>CTL0/IF2/</th>\n",
              "      <td>0.478889</td>\n",
              "      <td>-0.483025</td>\n",
              "      <td>0.020000</td>\n",
              "      <td>2.975833</td>\n",
              "      <td>0.000827</td>\n",
              "    </tr>\n",
              "    <tr>\n",
              "      <th>DCF23/</th>\n",
              "      <td>0.000000</td>\n",
              "      <td>0.000000</td>\n",
              "      <td>0.000000</td>\n",
              "      <td>0.000000</td>\n",
              "      <td>0.000000</td>\n",
              "    </tr>\n",
              "    <tr>\n",
              "      <th>ESTOP/</th>\n",
              "      <td>0.498611</td>\n",
              "      <td>-0.007786</td>\n",
              "      <td>0.046667</td>\n",
              "      <td>233.322222</td>\n",
              "      <td>0.064812</td>\n",
              "    </tr>\n",
              "    <tr>\n",
              "      <th>ESTOP/CTL0/</th>\n",
              "      <td>0.000000</td>\n",
              "      <td>0.000000</td>\n",
              "      <td>0.000000</td>\n",
              "      <td>0.000000</td>\n",
              "      <td>0.000000</td>\n",
              "    </tr>\n",
              "    <tr>\n",
              "      <th>SEQ1/</th>\n",
              "      <td>0.038333</td>\n",
              "      <td>0.000000</td>\n",
              "      <td>0.002778</td>\n",
              "      <td>0.567778</td>\n",
              "      <td>0.000158</td>\n",
              "    </tr>\n",
              "    <tr>\n",
              "      <th>SEQ2/</th>\n",
              "      <td>0.000000</td>\n",
              "      <td>0.000000</td>\n",
              "      <td>0.000000</td>\n",
              "      <td>0.000000</td>\n",
              "      <td>0.000000</td>\n",
              "    </tr>\n",
              "    <tr>\n",
              "      <th>SEQ2/ESTOP/</th>\n",
              "      <td>0.041389</td>\n",
              "      <td>0.000000</td>\n",
              "      <td>0.003333</td>\n",
              "      <td>7.745278</td>\n",
              "      <td>0.002151</td>\n",
              "    </tr>\n",
              "    <tr>\n",
              "      <th>THM15/</th>\n",
              "      <td>0.157222</td>\n",
              "      <td>-0.006988</td>\n",
              "      <td>0.014444</td>\n",
              "      <td>28.091389</td>\n",
              "      <td>0.007803</td>\n",
              "    </tr>\n",
              "  </tbody>\n",
              "</table>\n",
              "</div>\n",
              "      <button class=\"colab-df-convert\" onclick=\"convertToInteractive('df-f090d6aa-f61e-4970-88cf-18b23507cff1')\"\n",
              "              title=\"Convert this dataframe to an interactive table.\"\n",
              "              style=\"display:none;\">\n",
              "        \n",
              "  <svg xmlns=\"http://www.w3.org/2000/svg\" height=\"24px\"viewBox=\"0 0 24 24\"\n",
              "       width=\"24px\">\n",
              "    <path d=\"M0 0h24v24H0V0z\" fill=\"none\"/>\n",
              "    <path d=\"M18.56 5.44l.94 2.06.94-2.06 2.06-.94-2.06-.94-.94-2.06-.94 2.06-2.06.94zm-11 1L8.5 8.5l.94-2.06 2.06-.94-2.06-.94L8.5 2.5l-.94 2.06-2.06.94zm10 10l.94 2.06.94-2.06 2.06-.94-2.06-.94-.94-2.06-.94 2.06-2.06.94z\"/><path d=\"M17.41 7.96l-1.37-1.37c-.4-.4-.92-.59-1.43-.59-.52 0-1.04.2-1.43.59L10.3 9.45l-7.72 7.72c-.78.78-.78 2.05 0 2.83L4 21.41c.39.39.9.59 1.41.59.51 0 1.02-.2 1.41-.59l7.78-7.78 2.81-2.81c.8-.78.8-2.07 0-2.86zM5.41 20L4 18.59l7.72-7.72 1.47 1.35L5.41 20z\"/>\n",
              "  </svg>\n",
              "      </button>\n",
              "      \n",
              "  <style>\n",
              "    .colab-df-container {\n",
              "      display:flex;\n",
              "      flex-wrap:wrap;\n",
              "      gap: 12px;\n",
              "    }\n",
              "\n",
              "    .colab-df-convert {\n",
              "      background-color: #E8F0FE;\n",
              "      border: none;\n",
              "      border-radius: 50%;\n",
              "      cursor: pointer;\n",
              "      display: none;\n",
              "      fill: #1967D2;\n",
              "      height: 32px;\n",
              "      padding: 0 0 0 0;\n",
              "      width: 32px;\n",
              "    }\n",
              "\n",
              "    .colab-df-convert:hover {\n",
              "      background-color: #E2EBFA;\n",
              "      box-shadow: 0px 1px 2px rgba(60, 64, 67, 0.3), 0px 1px 3px 1px rgba(60, 64, 67, 0.15);\n",
              "      fill: #174EA6;\n",
              "    }\n",
              "\n",
              "    [theme=dark] .colab-df-convert {\n",
              "      background-color: #3B4455;\n",
              "      fill: #D2E3FC;\n",
              "    }\n",
              "\n",
              "    [theme=dark] .colab-df-convert:hover {\n",
              "      background-color: #434B5C;\n",
              "      box-shadow: 0px 1px 3px 1px rgba(0, 0, 0, 0.15);\n",
              "      filter: drop-shadow(0px 1px 2px rgba(0, 0, 0, 0.3));\n",
              "      fill: #FFFFFF;\n",
              "    }\n",
              "  </style>\n",
              "\n",
              "      <script>\n",
              "        const buttonEl =\n",
              "          document.querySelector('#df-f090d6aa-f61e-4970-88cf-18b23507cff1 button.colab-df-convert');\n",
              "        buttonEl.style.display =\n",
              "          google.colab.kernel.accessAllowed ? 'block' : 'none';\n",
              "\n",
              "        async function convertToInteractive(key) {\n",
              "          const element = document.querySelector('#df-f090d6aa-f61e-4970-88cf-18b23507cff1');\n",
              "          const dataTable =\n",
              "            await google.colab.kernel.invokeFunction('convertToInteractive',\n",
              "                                                     [key], {});\n",
              "          if (!dataTable) return;\n",
              "\n",
              "          const docLinkHtml = 'Like what you see? Visit the ' +\n",
              "            '<a target=\"_blank\" href=https://colab.research.google.com/notebooks/data_table.ipynb>data table notebook</a>'\n",
              "            + ' to learn more about interactive tables.';\n",
              "          element.innerHTML = '';\n",
              "          dataTable['output_type'] = 'display_data';\n",
              "          await google.colab.output.renderOutput(dataTable, element);\n",
              "          const docLink = document.createElement('div');\n",
              "          docLink.innerHTML = docLinkHtml;\n",
              "          element.appendChild(docLink);\n",
              "        }\n",
              "      </script>\n",
              "    </div>\n",
              "  </div>\n",
              "  "
            ],
            "text/plain": [
              "               NumOfStringOnline  MeterPower  ...    Duration  Duration Hours\n",
              "FaultCode                                     ...                            \n",
              "CF1/                    0.154167    0.000000  ...   37.727222        0.010480\n",
              "CL2/                    0.195833   -0.015101  ...    1.856389        0.000516\n",
              "CTL0/                   0.079722    0.000000  ...   23.987222        0.006663\n",
              "CTL0/IF1/               0.076667   -0.003054  ...    6.009444        0.001669\n",
              "CTL0/IF1/IF2/           0.076667   -0.002792  ...    0.671111        0.000186\n",
              "CTL0/IF1/IF3/           0.000000    0.000000  ...    0.000000        0.000000\n",
              "CTL0/IF2/               0.478889   -0.483025  ...    2.975833        0.000827\n",
              "DCF23/                  0.000000    0.000000  ...    0.000000        0.000000\n",
              "ESTOP/                  0.498611   -0.007786  ...  233.322222        0.064812\n",
              "ESTOP/CTL0/             0.000000    0.000000  ...    0.000000        0.000000\n",
              "SEQ1/                   0.038333    0.000000  ...    0.567778        0.000158\n",
              "SEQ2/                   0.000000    0.000000  ...    0.000000        0.000000\n",
              "SEQ2/ESTOP/             0.041389    0.000000  ...    7.745278        0.002151\n",
              "THM15/                  0.157222   -0.006988  ...   28.091389        0.007803\n",
              "\n",
              "[14 rows x 5 columns]"
            ]
          },
          "metadata": {},
          "execution_count": 29
        }
      ]
    },
    {
      "cell_type": "code",
      "metadata": {
        "id": "FrBWyF11_h6K"
      },
      "source": [
        "df_duration = df[['Duration', 'FaultCode']].sort_values('Duration', ascending = 0)"
      ],
      "execution_count": 30,
      "outputs": []
    },
    {
      "cell_type": "code",
      "metadata": {
        "id": "koKgj2KpAhRL"
      },
      "source": [
        "table4 = pd.DataFrame()\n",
        "table4 = df_duration[:50].groupby('FaultCode').sum()/3600 # top 50 durations with a fault code\n",
        "#table4 = table4.to_frame()"
      ],
      "execution_count": 31,
      "outputs": []
    },
    {
      "cell_type": "code",
      "source": [
        "html4 = table4.to_html()\n",
        "\n",
        "# write html to file\n",
        "text_file = open(\"table4.html\", \"w\")\n",
        "text_file.write(html4)\n",
        "text_file.close()"
      ],
      "metadata": {
        "id": "jZcRz4yxztED"
      },
      "execution_count": 32,
      "outputs": []
    },
    {
      "cell_type": "code",
      "source": [
        "from IPython.display import HTML\n",
        "HTML(table4.to_html(classes= 'table table-striped'))"
      ],
      "metadata": {
        "colab": {
          "base_uri": "https://localhost:8080/",
          "height": 520
        },
        "outputId": "af8f725e-1831-4137-f89b-35ad8e0b27a4",
        "id": "noWp1jQGztEE"
      },
      "execution_count": 33,
      "outputs": [
        {
          "output_type": "execute_result",
          "data": {
            "text/html": [
              "<table border=\"1\" class=\"dataframe table table-striped\">\n",
              "  <thead>\n",
              "    <tr style=\"text-align: right;\">\n",
              "      <th></th>\n",
              "      <th>Duration</th>\n",
              "    </tr>\n",
              "    <tr>\n",
              "      <th>FaultCode</th>\n",
              "      <th></th>\n",
              "    </tr>\n",
              "  </thead>\n",
              "  <tbody>\n",
              "    <tr>\n",
              "      <th>CF1/</th>\n",
              "      <td>36.655833</td>\n",
              "    </tr>\n",
              "    <tr>\n",
              "      <th>CL2/</th>\n",
              "      <td>0.000000</td>\n",
              "    </tr>\n",
              "    <tr>\n",
              "      <th>CTL0/</th>\n",
              "      <td>23.641389</td>\n",
              "    </tr>\n",
              "    <tr>\n",
              "      <th>CTL0/IF1/</th>\n",
              "      <td>5.865833</td>\n",
              "    </tr>\n",
              "    <tr>\n",
              "      <th>CTL0/IF1/IF2/</th>\n",
              "      <td>0.000000</td>\n",
              "    </tr>\n",
              "    <tr>\n",
              "      <th>CTL0/IF1/IF3/</th>\n",
              "      <td>0.000000</td>\n",
              "    </tr>\n",
              "    <tr>\n",
              "      <th>CTL0/IF2/</th>\n",
              "      <td>0.000000</td>\n",
              "    </tr>\n",
              "    <tr>\n",
              "      <th>DCF23/</th>\n",
              "      <td>0.000000</td>\n",
              "    </tr>\n",
              "    <tr>\n",
              "      <th>ESTOP/</th>\n",
              "      <td>224.290556</td>\n",
              "    </tr>\n",
              "    <tr>\n",
              "      <th>ESTOP/CTL0/</th>\n",
              "      <td>0.000000</td>\n",
              "    </tr>\n",
              "    <tr>\n",
              "      <th>SEQ1/</th>\n",
              "      <td>0.000000</td>\n",
              "    </tr>\n",
              "    <tr>\n",
              "      <th>SEQ2/</th>\n",
              "      <td>0.000000</td>\n",
              "    </tr>\n",
              "    <tr>\n",
              "      <th>SEQ2/ESTOP/</th>\n",
              "      <td>7.745278</td>\n",
              "    </tr>\n",
              "    <tr>\n",
              "      <th>THM15/</th>\n",
              "      <td>25.286944</td>\n",
              "    </tr>\n",
              "  </tbody>\n",
              "</table>"
            ],
            "text/plain": [
              "<IPython.core.display.HTML object>"
            ]
          },
          "metadata": {},
          "execution_count": 33
        }
      ]
    },
    {
      "cell_type": "code",
      "metadata": {
        "colab": {
          "base_uri": "https://localhost:8080/"
        },
        "id": "vqd1uB6pBVLW",
        "outputId": "d335c2f5-99b4-480b-b5ed-eefe9a61a74f"
      },
      "source": [
        "round(df_duration['Duration'][:10]/(3600*24))"
      ],
      "execution_count": 34,
      "outputs": [
        {
          "output_type": "execute_result",
          "data": {
            "text/plain": [
              "LastUpdateTime\n",
              "2021-03-10 09:28:10    8.0\n",
              "2021-09-07 20:03:30    5.0\n",
              "2021-12-09 10:12:10    2.0\n",
              "2021-08-31 07:37:42    1.0\n",
              "2021-06-24 14:11:58    1.0\n",
              "2021-09-01 17:34:33    1.0\n",
              "2021-03-02 15:58:48    1.0\n",
              "2021-04-17 15:32:51    1.0\n",
              "2021-03-12 10:00:01    1.0\n",
              "2021-05-05 06:52:52    1.0\n",
              "Name: Duration, dtype: float64"
            ]
          },
          "metadata": {},
          "execution_count": 34
        }
      ]
    },
    {
      "cell_type": "markdown",
      "metadata": {
        "id": "6rf9SDWIDPMv"
      },
      "source": [
        "### Fault Codes in 2021\n"
      ]
    },
    {
      "cell_type": "markdown",
      "metadata": {
        "id": "oxzRH_UdLdfW"
      },
      "source": [
        "Counts"
      ]
    },
    {
      "cell_type": "code",
      "metadata": {
        "colab": {
          "base_uri": "https://localhost:8080/",
          "height": 520
        },
        "id": "PAaHdzQNK2m7",
        "outputId": "10ca5eb6-2f3e-4e6d-f651-50f11a02fc63"
      },
      "source": [
        "count_df = pd.DataFrame()\n",
        "count_df = df.groupby('FaultCode').count().sort_values(by='Duration', ascending=0)\n",
        "count_df"
      ],
      "execution_count": 35,
      "outputs": [
        {
          "output_type": "execute_result",
          "data": {
            "text/html": [
              "\n",
              "  <div id=\"df-16e33d5e-8dff-4bf8-aec4-5f216264113c\">\n",
              "    <div class=\"colab-df-container\">\n",
              "      <div>\n",
              "<style scoped>\n",
              "    .dataframe tbody tr th:only-of-type {\n",
              "        vertical-align: middle;\n",
              "    }\n",
              "\n",
              "    .dataframe tbody tr th {\n",
              "        vertical-align: top;\n",
              "    }\n",
              "\n",
              "    .dataframe thead th {\n",
              "        text-align: right;\n",
              "    }\n",
              "</style>\n",
              "<table border=\"1\" class=\"dataframe\">\n",
              "  <thead>\n",
              "    <tr style=\"text-align: right;\">\n",
              "      <th></th>\n",
              "      <th>NumOfStringOnline</th>\n",
              "      <th>MeterPower</th>\n",
              "      <th>FaultCat</th>\n",
              "      <th>Duration</th>\n",
              "      <th>Duration Hours</th>\n",
              "    </tr>\n",
              "    <tr>\n",
              "      <th>FaultCode</th>\n",
              "      <th></th>\n",
              "      <th></th>\n",
              "      <th></th>\n",
              "      <th></th>\n",
              "      <th></th>\n",
              "    </tr>\n",
              "  </thead>\n",
              "  <tbody>\n",
              "    <tr>\n",
              "      <th>THM15/</th>\n",
              "      <td>7607</td>\n",
              "      <td>7607</td>\n",
              "      <td>7607</td>\n",
              "      <td>7607</td>\n",
              "      <td>7607</td>\n",
              "    </tr>\n",
              "    <tr>\n",
              "      <th>ESTOP/</th>\n",
              "      <td>100</td>\n",
              "      <td>100</td>\n",
              "      <td>100</td>\n",
              "      <td>100</td>\n",
              "      <td>100</td>\n",
              "    </tr>\n",
              "    <tr>\n",
              "      <th>CTL0/IF2/</th>\n",
              "      <td>82</td>\n",
              "      <td>82</td>\n",
              "      <td>82</td>\n",
              "      <td>82</td>\n",
              "      <td>82</td>\n",
              "    </tr>\n",
              "    <tr>\n",
              "      <th>CL2/</th>\n",
              "      <td>53</td>\n",
              "      <td>53</td>\n",
              "      <td>53</td>\n",
              "      <td>53</td>\n",
              "      <td>53</td>\n",
              "    </tr>\n",
              "    <tr>\n",
              "      <th>CTL0/IF1/</th>\n",
              "      <td>50</td>\n",
              "      <td>50</td>\n",
              "      <td>50</td>\n",
              "      <td>50</td>\n",
              "      <td>50</td>\n",
              "    </tr>\n",
              "    <tr>\n",
              "      <th>CTL0/IF1/IF2/</th>\n",
              "      <td>31</td>\n",
              "      <td>31</td>\n",
              "      <td>31</td>\n",
              "      <td>31</td>\n",
              "      <td>31</td>\n",
              "    </tr>\n",
              "    <tr>\n",
              "      <th>CTL0/IF1/IF3/</th>\n",
              "      <td>15</td>\n",
              "      <td>15</td>\n",
              "      <td>15</td>\n",
              "      <td>15</td>\n",
              "      <td>15</td>\n",
              "    </tr>\n",
              "    <tr>\n",
              "      <th>CF1/</th>\n",
              "      <td>12</td>\n",
              "      <td>12</td>\n",
              "      <td>12</td>\n",
              "      <td>12</td>\n",
              "      <td>12</td>\n",
              "    </tr>\n",
              "    <tr>\n",
              "      <th>CTL0/</th>\n",
              "      <td>3</td>\n",
              "      <td>3</td>\n",
              "      <td>3</td>\n",
              "      <td>3</td>\n",
              "      <td>3</td>\n",
              "    </tr>\n",
              "    <tr>\n",
              "      <th>DCF23/</th>\n",
              "      <td>2</td>\n",
              "      <td>2</td>\n",
              "      <td>2</td>\n",
              "      <td>2</td>\n",
              "      <td>2</td>\n",
              "    </tr>\n",
              "    <tr>\n",
              "      <th>SEQ2/</th>\n",
              "      <td>2</td>\n",
              "      <td>2</td>\n",
              "      <td>2</td>\n",
              "      <td>2</td>\n",
              "      <td>2</td>\n",
              "    </tr>\n",
              "    <tr>\n",
              "      <th>ESTOP/CTL0/</th>\n",
              "      <td>1</td>\n",
              "      <td>1</td>\n",
              "      <td>1</td>\n",
              "      <td>1</td>\n",
              "      <td>1</td>\n",
              "    </tr>\n",
              "    <tr>\n",
              "      <th>SEQ1/</th>\n",
              "      <td>1</td>\n",
              "      <td>1</td>\n",
              "      <td>1</td>\n",
              "      <td>1</td>\n",
              "      <td>1</td>\n",
              "    </tr>\n",
              "    <tr>\n",
              "      <th>SEQ2/ESTOP/</th>\n",
              "      <td>1</td>\n",
              "      <td>1</td>\n",
              "      <td>1</td>\n",
              "      <td>1</td>\n",
              "      <td>1</td>\n",
              "    </tr>\n",
              "  </tbody>\n",
              "</table>\n",
              "</div>\n",
              "      <button class=\"colab-df-convert\" onclick=\"convertToInteractive('df-16e33d5e-8dff-4bf8-aec4-5f216264113c')\"\n",
              "              title=\"Convert this dataframe to an interactive table.\"\n",
              "              style=\"display:none;\">\n",
              "        \n",
              "  <svg xmlns=\"http://www.w3.org/2000/svg\" height=\"24px\"viewBox=\"0 0 24 24\"\n",
              "       width=\"24px\">\n",
              "    <path d=\"M0 0h24v24H0V0z\" fill=\"none\"/>\n",
              "    <path d=\"M18.56 5.44l.94 2.06.94-2.06 2.06-.94-2.06-.94-.94-2.06-.94 2.06-2.06.94zm-11 1L8.5 8.5l.94-2.06 2.06-.94-2.06-.94L8.5 2.5l-.94 2.06-2.06.94zm10 10l.94 2.06.94-2.06 2.06-.94-2.06-.94-.94-2.06-.94 2.06-2.06.94z\"/><path d=\"M17.41 7.96l-1.37-1.37c-.4-.4-.92-.59-1.43-.59-.52 0-1.04.2-1.43.59L10.3 9.45l-7.72 7.72c-.78.78-.78 2.05 0 2.83L4 21.41c.39.39.9.59 1.41.59.51 0 1.02-.2 1.41-.59l7.78-7.78 2.81-2.81c.8-.78.8-2.07 0-2.86zM5.41 20L4 18.59l7.72-7.72 1.47 1.35L5.41 20z\"/>\n",
              "  </svg>\n",
              "      </button>\n",
              "      \n",
              "  <style>\n",
              "    .colab-df-container {\n",
              "      display:flex;\n",
              "      flex-wrap:wrap;\n",
              "      gap: 12px;\n",
              "    }\n",
              "\n",
              "    .colab-df-convert {\n",
              "      background-color: #E8F0FE;\n",
              "      border: none;\n",
              "      border-radius: 50%;\n",
              "      cursor: pointer;\n",
              "      display: none;\n",
              "      fill: #1967D2;\n",
              "      height: 32px;\n",
              "      padding: 0 0 0 0;\n",
              "      width: 32px;\n",
              "    }\n",
              "\n",
              "    .colab-df-convert:hover {\n",
              "      background-color: #E2EBFA;\n",
              "      box-shadow: 0px 1px 2px rgba(60, 64, 67, 0.3), 0px 1px 3px 1px rgba(60, 64, 67, 0.15);\n",
              "      fill: #174EA6;\n",
              "    }\n",
              "\n",
              "    [theme=dark] .colab-df-convert {\n",
              "      background-color: #3B4455;\n",
              "      fill: #D2E3FC;\n",
              "    }\n",
              "\n",
              "    [theme=dark] .colab-df-convert:hover {\n",
              "      background-color: #434B5C;\n",
              "      box-shadow: 0px 1px 3px 1px rgba(0, 0, 0, 0.15);\n",
              "      filter: drop-shadow(0px 1px 2px rgba(0, 0, 0, 0.3));\n",
              "      fill: #FFFFFF;\n",
              "    }\n",
              "  </style>\n",
              "\n",
              "      <script>\n",
              "        const buttonEl =\n",
              "          document.querySelector('#df-16e33d5e-8dff-4bf8-aec4-5f216264113c button.colab-df-convert');\n",
              "        buttonEl.style.display =\n",
              "          google.colab.kernel.accessAllowed ? 'block' : 'none';\n",
              "\n",
              "        async function convertToInteractive(key) {\n",
              "          const element = document.querySelector('#df-16e33d5e-8dff-4bf8-aec4-5f216264113c');\n",
              "          const dataTable =\n",
              "            await google.colab.kernel.invokeFunction('convertToInteractive',\n",
              "                                                     [key], {});\n",
              "          if (!dataTable) return;\n",
              "\n",
              "          const docLinkHtml = 'Like what you see? Visit the ' +\n",
              "            '<a target=\"_blank\" href=https://colab.research.google.com/notebooks/data_table.ipynb>data table notebook</a>'\n",
              "            + ' to learn more about interactive tables.';\n",
              "          element.innerHTML = '';\n",
              "          dataTable['output_type'] = 'display_data';\n",
              "          await google.colab.output.renderOutput(dataTable, element);\n",
              "          const docLink = document.createElement('div');\n",
              "          docLink.innerHTML = docLinkHtml;\n",
              "          element.appendChild(docLink);\n",
              "        }\n",
              "      </script>\n",
              "    </div>\n",
              "  </div>\n",
              "  "
            ],
            "text/plain": [
              "               NumOfStringOnline  MeterPower  ...  Duration  Duration Hours\n",
              "FaultCode                                     ...                          \n",
              "THM15/                      7607        7607  ...      7607            7607\n",
              "ESTOP/                       100         100  ...       100             100\n",
              "CTL0/IF2/                     82          82  ...        82              82\n",
              "CL2/                          53          53  ...        53              53\n",
              "CTL0/IF1/                     50          50  ...        50              50\n",
              "CTL0/IF1/IF2/                 31          31  ...        31              31\n",
              "CTL0/IF1/IF3/                 15          15  ...        15              15\n",
              "CF1/                          12          12  ...        12              12\n",
              "CTL0/                          3           3  ...         3               3\n",
              "DCF23/                         2           2  ...         2               2\n",
              "SEQ2/                          2           2  ...         2               2\n",
              "ESTOP/CTL0/                    1           1  ...         1               1\n",
              "SEQ1/                          1           1  ...         1               1\n",
              "SEQ2/ESTOP/                    1           1  ...         1               1\n",
              "\n",
              "[14 rows x 5 columns]"
            ]
          },
          "metadata": {},
          "execution_count": 35
        }
      ]
    },
    {
      "cell_type": "code",
      "source": [
        "sum_counts = count_df[\"Duration Hours\"].sum()\n",
        "print(sum_counts)"
      ],
      "metadata": {
        "colab": {
          "base_uri": "https://localhost:8080/"
        },
        "id": "FuBCFHOMnWAA",
        "outputId": "e1ec9654-cf99-4f09-ad74-910fb64e0263"
      },
      "execution_count": 36,
      "outputs": [
        {
          "output_type": "stream",
          "name": "stdout",
          "text": [
            "7960\n"
          ]
        }
      ]
    },
    {
      "cell_type": "markdown",
      "metadata": {
        "id": "O_pv7eYqLfVB"
      },
      "source": [
        "Durations"
      ]
    },
    {
      "cell_type": "code",
      "metadata": {
        "id": "AhrhWaCyTwhQ"
      },
      "source": [
        "pcs_fc = df[['FaultCode', 'Duration']].groupby('FaultCode').sum().sort_values(by='Duration', ascending=0)/3600 # in hours"
      ],
      "execution_count": 37,
      "outputs": []
    },
    {
      "cell_type": "code",
      "metadata": {
        "colab": {
          "base_uri": "https://localhost:8080/",
          "height": 520
        },
        "id": "5iONGAyZKtLB",
        "outputId": "dbaa76c7-9777-4df4-9df0-af3f606d66fa"
      },
      "source": [
        "pcs_fc\n"
      ],
      "execution_count": 38,
      "outputs": [
        {
          "output_type": "execute_result",
          "data": {
            "text/html": [
              "\n",
              "  <div id=\"df-e5aa3f7c-33d7-4533-8d7b-5123b2380ea7\">\n",
              "    <div class=\"colab-df-container\">\n",
              "      <div>\n",
              "<style scoped>\n",
              "    .dataframe tbody tr th:only-of-type {\n",
              "        vertical-align: middle;\n",
              "    }\n",
              "\n",
              "    .dataframe tbody tr th {\n",
              "        vertical-align: top;\n",
              "    }\n",
              "\n",
              "    .dataframe thead th {\n",
              "        text-align: right;\n",
              "    }\n",
              "</style>\n",
              "<table border=\"1\" class=\"dataframe\">\n",
              "  <thead>\n",
              "    <tr style=\"text-align: right;\">\n",
              "      <th></th>\n",
              "      <th>Duration</th>\n",
              "    </tr>\n",
              "    <tr>\n",
              "      <th>FaultCode</th>\n",
              "      <th></th>\n",
              "    </tr>\n",
              "  </thead>\n",
              "  <tbody>\n",
              "    <tr>\n",
              "      <th>ESTOP/</th>\n",
              "      <td>234.722222</td>\n",
              "    </tr>\n",
              "    <tr>\n",
              "      <th>THM15/</th>\n",
              "      <td>49.900556</td>\n",
              "    </tr>\n",
              "    <tr>\n",
              "      <th>CF1/</th>\n",
              "      <td>37.911111</td>\n",
              "    </tr>\n",
              "    <tr>\n",
              "      <th>CTL0/</th>\n",
              "      <td>24.004722</td>\n",
              "    </tr>\n",
              "    <tr>\n",
              "      <th>SEQ2/ESTOP/</th>\n",
              "      <td>7.745278</td>\n",
              "    </tr>\n",
              "    <tr>\n",
              "      <th>CTL0/IF1/</th>\n",
              "      <td>7.121944</td>\n",
              "    </tr>\n",
              "    <tr>\n",
              "      <th>CTL0/IF2/</th>\n",
              "      <td>3.225556</td>\n",
              "    </tr>\n",
              "    <tr>\n",
              "      <th>CL2/</th>\n",
              "      <td>2.091111</td>\n",
              "    </tr>\n",
              "    <tr>\n",
              "      <th>CTL0/IF1/IF2/</th>\n",
              "      <td>1.351389</td>\n",
              "    </tr>\n",
              "    <tr>\n",
              "      <th>SEQ1/</th>\n",
              "      <td>0.567778</td>\n",
              "    </tr>\n",
              "    <tr>\n",
              "      <th>CTL0/IF1/IF3/</th>\n",
              "      <td>0.286667</td>\n",
              "    </tr>\n",
              "    <tr>\n",
              "      <th>SEQ2/</th>\n",
              "      <td>0.095556</td>\n",
              "    </tr>\n",
              "    <tr>\n",
              "      <th>ESTOP/CTL0/</th>\n",
              "      <td>0.060000</td>\n",
              "    </tr>\n",
              "    <tr>\n",
              "      <th>DCF23/</th>\n",
              "      <td>0.003056</td>\n",
              "    </tr>\n",
              "  </tbody>\n",
              "</table>\n",
              "</div>\n",
              "      <button class=\"colab-df-convert\" onclick=\"convertToInteractive('df-e5aa3f7c-33d7-4533-8d7b-5123b2380ea7')\"\n",
              "              title=\"Convert this dataframe to an interactive table.\"\n",
              "              style=\"display:none;\">\n",
              "        \n",
              "  <svg xmlns=\"http://www.w3.org/2000/svg\" height=\"24px\"viewBox=\"0 0 24 24\"\n",
              "       width=\"24px\">\n",
              "    <path d=\"M0 0h24v24H0V0z\" fill=\"none\"/>\n",
              "    <path d=\"M18.56 5.44l.94 2.06.94-2.06 2.06-.94-2.06-.94-.94-2.06-.94 2.06-2.06.94zm-11 1L8.5 8.5l.94-2.06 2.06-.94-2.06-.94L8.5 2.5l-.94 2.06-2.06.94zm10 10l.94 2.06.94-2.06 2.06-.94-2.06-.94-.94-2.06-.94 2.06-2.06.94z\"/><path d=\"M17.41 7.96l-1.37-1.37c-.4-.4-.92-.59-1.43-.59-.52 0-1.04.2-1.43.59L10.3 9.45l-7.72 7.72c-.78.78-.78 2.05 0 2.83L4 21.41c.39.39.9.59 1.41.59.51 0 1.02-.2 1.41-.59l7.78-7.78 2.81-2.81c.8-.78.8-2.07 0-2.86zM5.41 20L4 18.59l7.72-7.72 1.47 1.35L5.41 20z\"/>\n",
              "  </svg>\n",
              "      </button>\n",
              "      \n",
              "  <style>\n",
              "    .colab-df-container {\n",
              "      display:flex;\n",
              "      flex-wrap:wrap;\n",
              "      gap: 12px;\n",
              "    }\n",
              "\n",
              "    .colab-df-convert {\n",
              "      background-color: #E8F0FE;\n",
              "      border: none;\n",
              "      border-radius: 50%;\n",
              "      cursor: pointer;\n",
              "      display: none;\n",
              "      fill: #1967D2;\n",
              "      height: 32px;\n",
              "      padding: 0 0 0 0;\n",
              "      width: 32px;\n",
              "    }\n",
              "\n",
              "    .colab-df-convert:hover {\n",
              "      background-color: #E2EBFA;\n",
              "      box-shadow: 0px 1px 2px rgba(60, 64, 67, 0.3), 0px 1px 3px 1px rgba(60, 64, 67, 0.15);\n",
              "      fill: #174EA6;\n",
              "    }\n",
              "\n",
              "    [theme=dark] .colab-df-convert {\n",
              "      background-color: #3B4455;\n",
              "      fill: #D2E3FC;\n",
              "    }\n",
              "\n",
              "    [theme=dark] .colab-df-convert:hover {\n",
              "      background-color: #434B5C;\n",
              "      box-shadow: 0px 1px 3px 1px rgba(0, 0, 0, 0.15);\n",
              "      filter: drop-shadow(0px 1px 2px rgba(0, 0, 0, 0.3));\n",
              "      fill: #FFFFFF;\n",
              "    }\n",
              "  </style>\n",
              "\n",
              "      <script>\n",
              "        const buttonEl =\n",
              "          document.querySelector('#df-e5aa3f7c-33d7-4533-8d7b-5123b2380ea7 button.colab-df-convert');\n",
              "        buttonEl.style.display =\n",
              "          google.colab.kernel.accessAllowed ? 'block' : 'none';\n",
              "\n",
              "        async function convertToInteractive(key) {\n",
              "          const element = document.querySelector('#df-e5aa3f7c-33d7-4533-8d7b-5123b2380ea7');\n",
              "          const dataTable =\n",
              "            await google.colab.kernel.invokeFunction('convertToInteractive',\n",
              "                                                     [key], {});\n",
              "          if (!dataTable) return;\n",
              "\n",
              "          const docLinkHtml = 'Like what you see? Visit the ' +\n",
              "            '<a target=\"_blank\" href=https://colab.research.google.com/notebooks/data_table.ipynb>data table notebook</a>'\n",
              "            + ' to learn more about interactive tables.';\n",
              "          element.innerHTML = '';\n",
              "          dataTable['output_type'] = 'display_data';\n",
              "          await google.colab.output.renderOutput(dataTable, element);\n",
              "          const docLink = document.createElement('div');\n",
              "          docLink.innerHTML = docLinkHtml;\n",
              "          element.appendChild(docLink);\n",
              "        }\n",
              "      </script>\n",
              "    </div>\n",
              "  </div>\n",
              "  "
            ],
            "text/plain": [
              "                 Duration\n",
              "FaultCode                \n",
              "ESTOP/         234.722222\n",
              "THM15/          49.900556\n",
              "CF1/            37.911111\n",
              "CTL0/           24.004722\n",
              "SEQ2/ESTOP/      7.745278\n",
              "CTL0/IF1/        7.121944\n",
              "CTL0/IF2/        3.225556\n",
              "CL2/             2.091111\n",
              "CTL0/IF1/IF2/    1.351389\n",
              "SEQ1/            0.567778\n",
              "CTL0/IF1/IF3/    0.286667\n",
              "SEQ2/            0.095556\n",
              "ESTOP/CTL0/      0.060000\n",
              "DCF23/           0.003056"
            ]
          },
          "metadata": {},
          "execution_count": 38
        }
      ]
    },
    {
      "cell_type": "code",
      "source": [
        "table2 = pcs_fc.to_html()\n",
        "\n",
        "# write html to file\n",
        "text_file = open(\"table2.html\", \"w\")\n",
        "text_file.write(table2)\n",
        "text_file.close()"
      ],
      "metadata": {
        "id": "1ImK38dQaUbU"
      },
      "execution_count": 39,
      "outputs": []
    },
    {
      "cell_type": "code",
      "source": [
        "import codecs\n",
        "f=codecs.open(\"table2.html\", 'r')\n",
        "print(f.read())"
      ],
      "metadata": {
        "colab": {
          "base_uri": "https://localhost:8080/"
        },
        "id": "N2by0R1Caaxy",
        "outputId": "31be91d3-d8fb-4744-9057-118753595b9d"
      },
      "execution_count": 40,
      "outputs": [
        {
          "output_type": "stream",
          "name": "stdout",
          "text": [
            "<table border=\"1\" class=\"dataframe\">\n",
            "  <thead>\n",
            "    <tr style=\"text-align: right;\">\n",
            "      <th></th>\n",
            "      <th>Duration</th>\n",
            "    </tr>\n",
            "    <tr>\n",
            "      <th>FaultCode</th>\n",
            "      <th></th>\n",
            "    </tr>\n",
            "  </thead>\n",
            "  <tbody>\n",
            "    <tr>\n",
            "      <th>ESTOP/</th>\n",
            "      <td>234.722222</td>\n",
            "    </tr>\n",
            "    <tr>\n",
            "      <th>THM15/</th>\n",
            "      <td>49.900556</td>\n",
            "    </tr>\n",
            "    <tr>\n",
            "      <th>CF1/</th>\n",
            "      <td>37.911111</td>\n",
            "    </tr>\n",
            "    <tr>\n",
            "      <th>CTL0/</th>\n",
            "      <td>24.004722</td>\n",
            "    </tr>\n",
            "    <tr>\n",
            "      <th>SEQ2/ESTOP/</th>\n",
            "      <td>7.745278</td>\n",
            "    </tr>\n",
            "    <tr>\n",
            "      <th>CTL0/IF1/</th>\n",
            "      <td>7.121944</td>\n",
            "    </tr>\n",
            "    <tr>\n",
            "      <th>CTL0/IF2/</th>\n",
            "      <td>3.225556</td>\n",
            "    </tr>\n",
            "    <tr>\n",
            "      <th>CL2/</th>\n",
            "      <td>2.091111</td>\n",
            "    </tr>\n",
            "    <tr>\n",
            "      <th>CTL0/IF1/IF2/</th>\n",
            "      <td>1.351389</td>\n",
            "    </tr>\n",
            "    <tr>\n",
            "      <th>SEQ1/</th>\n",
            "      <td>0.567778</td>\n",
            "    </tr>\n",
            "    <tr>\n",
            "      <th>CTL0/IF1/IF3/</th>\n",
            "      <td>0.286667</td>\n",
            "    </tr>\n",
            "    <tr>\n",
            "      <th>SEQ2/</th>\n",
            "      <td>0.095556</td>\n",
            "    </tr>\n",
            "    <tr>\n",
            "      <th>ESTOP/CTL0/</th>\n",
            "      <td>0.060000</td>\n",
            "    </tr>\n",
            "    <tr>\n",
            "      <th>DCF23/</th>\n",
            "      <td>0.003056</td>\n",
            "    </tr>\n",
            "  </tbody>\n",
            "</table>\n"
          ]
        }
      ]
    },
    {
      "cell_type": "code",
      "source": [
        "from IPython.display import HTML\n",
        "HTML(pcs_fc.to_html(classes= 'table table-striped'))"
      ],
      "metadata": {
        "colab": {
          "base_uri": "https://localhost:8080/",
          "height": 520
        },
        "id": "eWynSs68agYo",
        "outputId": "0e313a3d-128a-4292-917c-f22f928909f3"
      },
      "execution_count": 41,
      "outputs": [
        {
          "output_type": "execute_result",
          "data": {
            "text/html": [
              "<table border=\"1\" class=\"dataframe table table-striped\">\n",
              "  <thead>\n",
              "    <tr style=\"text-align: right;\">\n",
              "      <th></th>\n",
              "      <th>Duration</th>\n",
              "    </tr>\n",
              "    <tr>\n",
              "      <th>FaultCode</th>\n",
              "      <th></th>\n",
              "    </tr>\n",
              "  </thead>\n",
              "  <tbody>\n",
              "    <tr>\n",
              "      <th>ESTOP/</th>\n",
              "      <td>234.722222</td>\n",
              "    </tr>\n",
              "    <tr>\n",
              "      <th>THM15/</th>\n",
              "      <td>49.900556</td>\n",
              "    </tr>\n",
              "    <tr>\n",
              "      <th>CF1/</th>\n",
              "      <td>37.911111</td>\n",
              "    </tr>\n",
              "    <tr>\n",
              "      <th>CTL0/</th>\n",
              "      <td>24.004722</td>\n",
              "    </tr>\n",
              "    <tr>\n",
              "      <th>SEQ2/ESTOP/</th>\n",
              "      <td>7.745278</td>\n",
              "    </tr>\n",
              "    <tr>\n",
              "      <th>CTL0/IF1/</th>\n",
              "      <td>7.121944</td>\n",
              "    </tr>\n",
              "    <tr>\n",
              "      <th>CTL0/IF2/</th>\n",
              "      <td>3.225556</td>\n",
              "    </tr>\n",
              "    <tr>\n",
              "      <th>CL2/</th>\n",
              "      <td>2.091111</td>\n",
              "    </tr>\n",
              "    <tr>\n",
              "      <th>CTL0/IF1/IF2/</th>\n",
              "      <td>1.351389</td>\n",
              "    </tr>\n",
              "    <tr>\n",
              "      <th>SEQ1/</th>\n",
              "      <td>0.567778</td>\n",
              "    </tr>\n",
              "    <tr>\n",
              "      <th>CTL0/IF1/IF3/</th>\n",
              "      <td>0.286667</td>\n",
              "    </tr>\n",
              "    <tr>\n",
              "      <th>SEQ2/</th>\n",
              "      <td>0.095556</td>\n",
              "    </tr>\n",
              "    <tr>\n",
              "      <th>ESTOP/CTL0/</th>\n",
              "      <td>0.060000</td>\n",
              "    </tr>\n",
              "    <tr>\n",
              "      <th>DCF23/</th>\n",
              "      <td>0.003056</td>\n",
              "    </tr>\n",
              "  </tbody>\n",
              "</table>"
            ],
            "text/plain": [
              "<IPython.core.display.HTML object>"
            ]
          },
          "metadata": {},
          "execution_count": 41
        }
      ]
    },
    {
      "cell_type": "code",
      "metadata": {
        "colab": {
          "base_uri": "https://localhost:8080/",
          "height": 419
        },
        "id": "EfiMx8C3ICu5",
        "outputId": "3f3a3931-b389-4a32-bbc1-000b50c5676e"
      },
      "source": [
        "pcs_fc.plot(kind='bar', figsize=(20,5), cmap='copper_r',label = 'Duration Hours')\n",
        "  \n",
        "# Add a title to a legend\n",
        "plt.legend(title = \"Legend Title\")\n",
        "plt.title(\"Line Graph - Fault code distribution\")\n",
        "plt.xlabel(\"Fault code\")\n",
        "plt.ylabel(\"Duration Hours\")"
      ],
      "execution_count": 42,
      "outputs": [
        {
          "output_type": "execute_result",
          "data": {
            "text/plain": [
              "Text(0, 0.5, 'Duration Hours')"
            ]
          },
          "metadata": {},
          "execution_count": 42
        },
        {
          "output_type": "display_data",
          "data": {
            "image/png": "[encoded data removed]",
            "text/plain": [
              "<Figure size 1440x360 with 1 Axes>"
            ]
          },
          "metadata": {
            "needs_background": "light"
          }
        }
      ]
    },
    {
      "cell_type": "markdown",
      "metadata": {
        "id": "bNbhTpLlDr9Y"
      },
      "source": [
        "### Fault Codes Description"
      ]
    },
    {
      "cell_type": "markdown",
      "metadata": {
        "id": "DxTqvNlBIZET"
      },
      "source": [
        "Let's assume all codes observed are equivalent to downtime"
      ]
    },
    {
      "cell_type": "code",
      "metadata": {
        "id": "y3m8859JIY0D"
      },
      "source": [
        "#@title\n",
        "pcs_downtime_duration = pcs_fc['Duration'].sum()"
      ],
      "execution_count": 43,
      "outputs": []
    },
    {
      "cell_type": "code",
      "metadata": {
        "id": "sHQwlVS3Ilid",
        "colab": {
          "base_uri": "https://localhost:8080/"
        },
        "outputId": "83fc585a-7949-4753-a583-6dbadfd792d3"
      },
      "source": [
        "#@title\n",
        "pcs_downtime_duration"
      ],
      "execution_count": 44,
      "outputs": [
        {
          "output_type": "execute_result",
          "data": {
            "text/plain": [
              "369.0869444444445"
            ]
          },
          "metadata": {},
          "execution_count": 44
        }
      ]
    },
    {
      "cell_type": "code",
      "metadata": {
        "id": "-AFalFuPJZx_"
      },
      "source": [
        "#@title\n",
        "pcs_downtime_percent = 100 * pcs_downtime_duration/duration_2021_hours\n",
        "pcs_uptime_percent = 100 - pcs_downtime_percent"
      ],
      "execution_count": 45,
      "outputs": []
    },
    {
      "cell_type": "code",
      "metadata": {
        "id": "Y3WmC21vI3jo",
        "colab": {
          "base_uri": "https://localhost:8080/"
        },
        "outputId": "00bfdd1c-c15d-43d4-dcd3-ff1c7551dd52"
      },
      "source": [
        "#@title\n",
        "print('PCS Downtime %', round(pcs_downtime_percent, 2), 'PCS Uptime %', round(pcs_uptime_percent, 2))"
      ],
      "execution_count": 46,
      "outputs": [
        {
          "output_type": "stream",
          "name": "stdout",
          "text": [
            "PCS Downtime % 4.31 PCS Uptime % 95.69\n"
          ]
        }
      ]
    },
    {
      "cell_type": "markdown",
      "metadata": {
        "id": "O6mksxfwG3Kg"
      },
      "source": [
        "### Strings mean online"
      ]
    },
    {
      "cell_type": "code",
      "metadata": {
        "colab": {
          "base_uri": "https://localhost:8080/"
        },
        "id": "8kYs4XazJpp2",
        "outputId": "309cc7f3-f1c0-4249-fc0f-e3c7fdb471f0"
      },
      "source": [
        "mean_actual_strings_2021 = df['NumOfStringOnline'].mean()\n",
        "mean_actual_strings_2021"
      ],
      "execution_count": 47,
      "outputs": [
        {
          "output_type": "execute_result",
          "data": {
            "text/plain": [
              "143.08660426466065"
            ]
          },
          "metadata": {},
          "execution_count": 47
        }
      ]
    },
    {
      "cell_type": "code",
      "metadata": {
        "colab": {
          "base_uri": "https://localhost:8080/",
          "height": 501
        },
        "id": "Wn5wdFYaJ-c1",
        "outputId": "b999e80d-22f8-4371-fdfe-e4b6c5819251"
      },
      "source": [
        "df['NumOfStringOnline'].plot(figsize=(20,8), cmap='copper_r', title='Strings Online in 2021',label = 'nStringsOnline')\n",
        "\n",
        "# Add a title to a legend\n",
        "plt.legend(title = \"Legend Title\",loc='lower right')\n",
        "plt.xlabel(\"Time\")\n",
        "plt.ylabel(\"nStringsOnline\")"
      ],
      "execution_count": 48,
      "outputs": [
        {
          "output_type": "execute_result",
          "data": {
            "text/plain": [
              "Text(0, 0.5, 'nStringsOnline')"
            ]
          },
          "metadata": {},
          "execution_count": 48
        },
        {
          "output_type": "display_data",
          "data": {
            "image/png": "[encoded data removed]",
            "text/plain": [
              "<Figure size 1440x576 with 1 Axes>"
            ]
          },
          "metadata": {
            "needs_background": "light"
          }
        }
      ]
    },
    {
      "cell_type": "markdown",
      "metadata": {
        "id": "H2BV8c2sP807"
      },
      "source": [
        "# Simplified Calculation"
      ]
    },
    {
      "cell_type": "markdown",
      "metadata": {
        "id": "EJyNVoYXQUyx"
      },
      "source": [
        "Availability = mean(strings) * uptime/maximum uptime (100%) * max strings (151)"
      ]
    },
    {
      "cell_type": "code",
      "metadata": {
        "colab": {
          "base_uri": "https://localhost:8080/"
        },
        "id": "j6eY_Q6-QfXM",
        "outputId": "f35d39b5-03c8-4bf1-f069-6ced8abf2018"
      },
      "source": [
        "availability = mean_actual_strings_2021 * pcs_uptime_percent/MaxStr\n",
        "print('Availability for 2021:', round(availability, 2), '%')"
      ],
      "execution_count": 49,
      "outputs": [
        {
          "output_type": "stream",
          "name": "stdout",
          "text": [
            "Availability for 2021: 90.68 %\n"
          ]
        }
      ]
    },
    {
      "cell_type": "markdown",
      "metadata": {
        "id": "948qqu14Q_1J"
      },
      "source": [
        "### Liquidated Damages Calculation ($)"
      ]
    },
    {
      "cell_type": "code",
      "metadata": {
        "colab": {
          "base_uri": "https://localhost:8080/"
        },
        "id": "RLf1WCv-RC4_",
        "outputId": "095d1178-ccff-4c21-ce62-5952db8ed2f6"
      },
      "source": [
        "damages = (Guaranteed_Availability - availability) * LD_rate_per_1Percent\n",
        "print('Damages $', round(damages, 2))"
      ],
      "execution_count": 50,
      "outputs": [
        {
          "output_type": "stream",
          "name": "stdout",
          "text": [
            "Damages $ 20864.72\n"
          ]
        }
      ]
    },
    {
      "cell_type": "code",
      "source": [
        "Availability_gap = Guaranteed_Availability - availability"
      ],
      "metadata": {
        "id": "3t1N9tiXk3-5"
      },
      "execution_count": 51,
      "outputs": []
    },
    {
      "cell_type": "code",
      "source": [
        "table1 = pd.DataFrame()\n",
        "table1[\"Parameter\"] = [\"Availability Gap\" , \"LD rate per 1% shortfall\", \"Actual Availability\", \"Guaranteed Availability\", \"Mean strings online\", \"Maximum strings\", \"Total number of fault codes\" , \"Total downtime\", \"Downtime Percent\", \"Uptime\", \"Liquidated Damages $\"]\n",
        "table1[\"Value\"] = [Availability_gap , LD_rate_per_1Percent , availability, Guaranteed_Availability, mean_actual_strings_2021, MaxStr, sum_counts, pcs_downtime_duration, pcs_downtime_percent, pcs_uptime_percent, damages ]\n",
        "table1[\"Unit\"] = [\"%\",\"$\",\"%\",\"%\",\"Strings\",\"Strings\",\"Count\",\"Hours\",\"%\",\"%\",\"$\"]"
      ],
      "metadata": {
        "id": "BCTuxGM6ilNE"
      },
      "execution_count": 52,
      "outputs": []
    },
    {
      "cell_type": "code",
      "source": [
        "html1 = table1.to_html()\n",
        "\n",
        "# write html to file\n",
        "text_file = open(\"table1.html\", \"w\")\n",
        "text_file.write(html1)\n",
        "text_file.close()"
      ],
      "metadata": {
        "id": "1nNAlui1fu4I"
      },
      "execution_count": 53,
      "outputs": []
    },
    {
      "cell_type": "code",
      "source": [
        "import codecs\n",
        "f=codecs.open(\"table1.html\", 'r')\n",
        "print(f.read())"
      ],
      "metadata": {
        "colab": {
          "base_uri": "https://localhost:8080/"
        },
        "outputId": "e28dd4d6-cd32-4add-c68b-8e794202d82b",
        "id": "r7bmdnSTfu4I"
      },
      "execution_count": 54,
      "outputs": [
        {
          "output_type": "stream",
          "name": "stdout",
          "text": [
            "<table border=\"1\" class=\"dataframe\">\n",
            "  <thead>\n",
            "    <tr style=\"text-align: right;\">\n",
            "      <th></th>\n",
            "      <th>Parameter</th>\n",
            "      <th>Value</th>\n",
            "      <th>Unit</th>\n",
            "    </tr>\n",
            "  </thead>\n",
            "  <tbody>\n",
            "    <tr>\n",
            "      <th>0</th>\n",
            "      <td>Availability Gap</td>\n",
            "      <td>6.322643</td>\n",
            "      <td>%</td>\n",
            "    </tr>\n",
            "    <tr>\n",
            "      <th>1</th>\n",
            "      <td>LD rate per 1% shortfall</td>\n",
            "      <td>3300.000000</td>\n",
            "      <td>$</td>\n",
            "    </tr>\n",
            "    <tr>\n",
            "      <th>2</th>\n",
            "      <td>Actual Availability</td>\n",
            "      <td>90.677357</td>\n",
            "      <td>%</td>\n",
            "    </tr>\n",
            "    <tr>\n",
            "      <th>3</th>\n",
            "      <td>Guaranteed Availability</td>\n",
            "      <td>97.000000</td>\n",
            "      <td>%</td>\n",
            "    </tr>\n",
            "    <tr>\n",
            "      <th>4</th>\n",
            "      <td>Mean strings online</td>\n",
            "      <td>143.086604</td>\n",
            "      <td>Strings</td>\n",
            "    </tr>\n",
            "    <tr>\n",
            "      <th>5</th>\n",
            "      <td>Maximum strings</td>\n",
            "      <td>151.000000</td>\n",
            "      <td>Strings</td>\n",
            "    </tr>\n",
            "    <tr>\n",
            "      <th>6</th>\n",
            "      <td>Total number of fault codes</td>\n",
            "      <td>7960.000000</td>\n",
            "      <td>Count</td>\n",
            "    </tr>\n",
            "    <tr>\n",
            "      <th>7</th>\n",
            "      <td>Total downtime</td>\n",
            "      <td>369.086944</td>\n",
            "      <td>Hours</td>\n",
            "    </tr>\n",
            "    <tr>\n",
            "      <th>8</th>\n",
            "      <td>Downtime Percent</td>\n",
            "      <td>4.307737</td>\n",
            "      <td>%</td>\n",
            "    </tr>\n",
            "    <tr>\n",
            "      <th>9</th>\n",
            "      <td>Uptime</td>\n",
            "      <td>95.692263</td>\n",
            "      <td>%</td>\n",
            "    </tr>\n",
            "    <tr>\n",
            "      <th>10</th>\n",
            "      <td>Liquidated Damages $</td>\n",
            "      <td>20864.721984</td>\n",
            "      <td>$</td>\n",
            "    </tr>\n",
            "  </tbody>\n",
            "</table>\n"
          ]
        }
      ]
    },
    {
      "cell_type": "code",
      "source": [
        "from IPython.display import HTML\n",
        "HTML(table1.to_html(classes= 'table table-striped'))"
      ],
      "metadata": {
        "colab": {
          "base_uri": "https://localhost:8080/",
          "height": 394
        },
        "outputId": "aa7fe71b-49d4-4191-b834-97b309314d7b",
        "id": "TRnFnws6fu4J"
      },
      "execution_count": 55,
      "outputs": [
        {
          "output_type": "execute_result",
          "data": {
            "text/html": [
              "<table border=\"1\" class=\"dataframe table table-striped\">\n",
              "  <thead>\n",
              "    <tr style=\"text-align: right;\">\n",
              "      <th></th>\n",
              "      <th>Parameter</th>\n",
              "      <th>Value</th>\n",
              "      <th>Unit</th>\n",
              "    </tr>\n",
              "  </thead>\n",
              "  <tbody>\n",
              "    <tr>\n",
              "      <th>0</th>\n",
              "      <td>Availability Gap</td>\n",
              "      <td>6.322643</td>\n",
              "      <td>%</td>\n",
              "    </tr>\n",
              "    <tr>\n",
              "      <th>1</th>\n",
              "      <td>LD rate per 1% shortfall</td>\n",
              "      <td>3300.000000</td>\n",
              "      <td>$</td>\n",
              "    </tr>\n",
              "    <tr>\n",
              "      <th>2</th>\n",
              "      <td>Actual Availability</td>\n",
              "      <td>90.677357</td>\n",
              "      <td>%</td>\n",
              "    </tr>\n",
              "    <tr>\n",
              "      <th>3</th>\n",
              "      <td>Guaranteed Availability</td>\n",
              "      <td>97.000000</td>\n",
              "      <td>%</td>\n",
              "    </tr>\n",
              "    <tr>\n",
              "      <th>4</th>\n",
              "      <td>Mean strings online</td>\n",
              "      <td>143.086604</td>\n",
              "      <td>Strings</td>\n",
              "    </tr>\n",
              "    <tr>\n",
              "      <th>5</th>\n",
              "      <td>Maximum strings</td>\n",
              "      <td>151.000000</td>\n",
              "      <td>Strings</td>\n",
              "    </tr>\n",
              "    <tr>\n",
              "      <th>6</th>\n",
              "      <td>Total number of fault codes</td>\n",
              "      <td>7960.000000</td>\n",
              "      <td>Count</td>\n",
              "    </tr>\n",
              "    <tr>\n",
              "      <th>7</th>\n",
              "      <td>Total downtime</td>\n",
              "      <td>369.086944</td>\n",
              "      <td>Hours</td>\n",
              "    </tr>\n",
              "    <tr>\n",
              "      <th>8</th>\n",
              "      <td>Downtime Percent</td>\n",
              "      <td>4.307737</td>\n",
              "      <td>%</td>\n",
              "    </tr>\n",
              "    <tr>\n",
              "      <th>9</th>\n",
              "      <td>Uptime</td>\n",
              "      <td>95.692263</td>\n",
              "      <td>%</td>\n",
              "    </tr>\n",
              "    <tr>\n",
              "      <th>10</th>\n",
              "      <td>Liquidated Damages $</td>\n",
              "      <td>20864.721984</td>\n",
              "      <td>$</td>\n",
              "    </tr>\n",
              "  </tbody>\n",
              "</table>"
            ],
            "text/plain": [
              "<IPython.core.display.HTML object>"
            ]
          },
          "metadata": {},
          "execution_count": 55
        }
      ]
    }
  ]
}